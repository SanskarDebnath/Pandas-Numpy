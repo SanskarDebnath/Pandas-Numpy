{
 "cells": [
  {
   "cell_type": "code",
   "execution_count": 44,
   "id": "ce0ce5dc",
   "metadata": {},
   "outputs": [],
   "source": [
    "import pandas as pd\n",
    "import numpy as np"
   ]
  },
  {
   "cell_type": "code",
   "execution_count": 18,
   "id": "81c370e2",
   "metadata": {},
   "outputs": [
    {
     "name": "stdout",
     "output_type": "stream",
     "text": [
      "   Firstname       Lastname Age\n",
      "0    sanskar        debnath  21\n",
      "1  Mithilesh  bhattacharjee  22\n",
      "2      Panda          numpy   5\n"
     ]
    }
   ],
   "source": [
    "#import pandas as rokon\n",
    "data4 ={\n",
    "    'Firstname':['sanskar','Mithilesh','Panda'],\n",
    "    'Lastname':['debnath','bhattacharjee','numpy'],\n",
    "    'Age':['21','22','5']\n",
    "}\n",
    "defi = pd.DataFrame(data4)\n",
    "print (defi)"
   ]
  },
  {
   "cell_type": "code",
   "execution_count": null,
   "id": "12be8d65",
   "metadata": {},
   "outputs": [],
   "source": []
  },
  {
   "cell_type": "code",
   "execution_count": 27,
   "id": "1bff5ee9",
   "metadata": {},
   "outputs": [
    {
     "name": "stdout",
     "output_type": "stream",
     "text": [
      "                                          Train_name speed_in_km/h\n",
      "0                                        Bandebharat           180\n",
      "1                                   Gatimaan Express           160\n",
      "2                New Delhi - Bhopal Shatabdi Express           150\n",
      "3  Mumbai - New Delhi Rajdhani Express & Kanpur S...           140\n",
      "4     Mumbai LTT - H.Nizamuddin AC Superfast Express           130\n"
     ]
    },
    {
     "data": {
      "text/html": [
       "<div>\n",
       "<style scoped>\n",
       "    .dataframe tbody tr th:only-of-type {\n",
       "        vertical-align: middle;\n",
       "    }\n",
       "\n",
       "    .dataframe tbody tr th {\n",
       "        vertical-align: top;\n",
       "    }\n",
       "\n",
       "    .dataframe thead th {\n",
       "        text-align: right;\n",
       "    }\n",
       "</style>\n",
       "<table border=\"1\" class=\"dataframe\">\n",
       "  <thead>\n",
       "    <tr style=\"text-align: right;\">\n",
       "      <th></th>\n",
       "      <th>Train_name</th>\n",
       "      <th>speed_in_km/h</th>\n",
       "    </tr>\n",
       "  </thead>\n",
       "  <tbody>\n",
       "    <tr>\n",
       "      <th>count</th>\n",
       "      <td>5</td>\n",
       "      <td>5</td>\n",
       "    </tr>\n",
       "    <tr>\n",
       "      <th>unique</th>\n",
       "      <td>5</td>\n",
       "      <td>5</td>\n",
       "    </tr>\n",
       "    <tr>\n",
       "      <th>top</th>\n",
       "      <td>Bandebharat</td>\n",
       "      <td>180</td>\n",
       "    </tr>\n",
       "    <tr>\n",
       "      <th>freq</th>\n",
       "      <td>1</td>\n",
       "      <td>1</td>\n",
       "    </tr>\n",
       "  </tbody>\n",
       "</table>\n",
       "</div>"
      ],
      "text/plain": [
       "         Train_name speed_in_km/h\n",
       "count             5             5\n",
       "unique            5             5\n",
       "top     Bandebharat           180\n",
       "freq              1             1"
      ]
     },
     "execution_count": 27,
     "metadata": {},
     "output_type": "execute_result"
    }
   ],
   "source": [
    "data_train = {\n",
    "    'Train_name' : ['Bandebharat','Gatimaan Express','New Delhi - Bhopal Shatabdi Express','Mumbai - New Delhi Rajdhani Express & Kanpur Shatabdi Express','Mumbai LTT - H.Nizamuddin AC Superfast Express'],\n",
    "    'speed_in_km/h' : ['180','160','150','140','130']\n",
    "}\n",
    "\n",
    "train_calc = pd.DataFrame(data_train)\n",
    "print (train_calc)\n",
    "\n",
    "train_calc.describe()"
   ]
  },
  {
   "cell_type": "code",
   "execution_count": null,
   "id": "28387dc1",
   "metadata": {},
   "outputs": [],
   "source": []
  },
  {
   "cell_type": "markdown",
   "id": "559d7a90",
   "metadata": {},
   "source": [
    "# train_data"
   ]
  },
  {
   "cell_type": "code",
   "execution_count": 40,
   "id": "09b767b7",
   "metadata": {},
   "outputs": [
    {
     "name": "stdout",
     "output_type": "stream",
     "text": [
      "              TrainName     TrainStation  TrainMaxSpeed TrainBuildDate  \\\n",
      "0      Rajdhani Express        New Delhi            130     2000-01-01   \n",
      "1      Shatabdi Express   Mumbai Central            150     2005-03-15   \n",
      "2       Duronto Express  Howrah Junction            120     2012-09-30   \n",
      "3      Gatimaan Express    H. Nizamuddin            160     2016-05-20   \n",
      "4  Vande Bharat Express        New Delhi            180     2018-12-25   \n",
      "\n",
      "   TrainAccidentRate  TravelTime     Origin Destination  \n",
      "0               0.05         8.5  New Delhi      Mumbai  \n",
      "1               0.02         6.0     Mumbai   Bangalore  \n",
      "2               0.03        10.0    Kolkata     Chennai  \n",
      "3               0.01         3.5      Delhi        Agra  \n",
      "4               0.01         6.5   Varanasi     Lucknow  \n"
     ]
    }
   ],
   "source": [
    "train_data2 = {\n",
    "    'TrainName': ['Rajdhani Express', 'Shatabdi Express', 'Duronto Express', 'Gatimaan Express', 'Vande Bharat Express'],\n",
    "    'TrainStation': ['New Delhi', 'Mumbai Central', 'Howrah Junction', 'H. Nizamuddin', 'New Delhi'],\n",
    "    'TrainMaxSpeed': [130, 150, 120, 160, 180],\n",
    "    'TrainBuildDate': ['2000-01-01', '2005-03-15', '2012-09-30', '2016-05-20', '2018-12-25'],\n",
    "    'TrainAccidentRate': [0.05, 0.02, 0.03, 0.01, 0.01],\n",
    "    'TravelTime': [8.5, 6.0, 10.0, 3.5, 6.5],\n",
    "    'Origin': ['New Delhi', 'Mumbai', 'Kolkata', 'Delhi', 'Varanasi'],\n",
    "    'Destination': ['Mumbai', 'Bangalore', 'Chennai', 'Agra', 'Lucknow']\n",
    "}\n",
    "train_df = pd.DataFrame(train_data2)\n",
    "print(train_df)\n",
    "#train_df.describe()\n"
   ]
  },
  {
   "cell_type": "code",
   "execution_count": 35,
   "id": "0a58d7cc",
   "metadata": {},
   "outputs": [
    {
     "data": {
      "text/html": [
       "<div>\n",
       "<style scoped>\n",
       "    .dataframe tbody tr th:only-of-type {\n",
       "        vertical-align: middle;\n",
       "    }\n",
       "\n",
       "    .dataframe tbody tr th {\n",
       "        vertical-align: top;\n",
       "    }\n",
       "\n",
       "    .dataframe thead th {\n",
       "        text-align: right;\n",
       "    }\n",
       "</style>\n",
       "<table border=\"1\" class=\"dataframe\">\n",
       "  <thead>\n",
       "    <tr style=\"text-align: right;\">\n",
       "      <th></th>\n",
       "      <th>TrainMaxSpeed</th>\n",
       "      <th>TrainAccidentRate</th>\n",
       "      <th>TravelTime</th>\n",
       "    </tr>\n",
       "  </thead>\n",
       "  <tbody>\n",
       "    <tr>\n",
       "      <th>count</th>\n",
       "      <td>5.000000</td>\n",
       "      <td>5.000000</td>\n",
       "      <td>5.000000</td>\n",
       "    </tr>\n",
       "    <tr>\n",
       "      <th>mean</th>\n",
       "      <td>148.000000</td>\n",
       "      <td>0.024000</td>\n",
       "      <td>6.900000</td>\n",
       "    </tr>\n",
       "    <tr>\n",
       "      <th>std</th>\n",
       "      <td>23.874673</td>\n",
       "      <td>0.016733</td>\n",
       "      <td>2.484955</td>\n",
       "    </tr>\n",
       "    <tr>\n",
       "      <th>min</th>\n",
       "      <td>120.000000</td>\n",
       "      <td>0.010000</td>\n",
       "      <td>3.500000</td>\n",
       "    </tr>\n",
       "    <tr>\n",
       "      <th>25%</th>\n",
       "      <td>130.000000</td>\n",
       "      <td>0.010000</td>\n",
       "      <td>6.000000</td>\n",
       "    </tr>\n",
       "    <tr>\n",
       "      <th>50%</th>\n",
       "      <td>150.000000</td>\n",
       "      <td>0.020000</td>\n",
       "      <td>6.500000</td>\n",
       "    </tr>\n",
       "    <tr>\n",
       "      <th>75%</th>\n",
       "      <td>160.000000</td>\n",
       "      <td>0.030000</td>\n",
       "      <td>8.500000</td>\n",
       "    </tr>\n",
       "    <tr>\n",
       "      <th>max</th>\n",
       "      <td>180.000000</td>\n",
       "      <td>0.050000</td>\n",
       "      <td>10.000000</td>\n",
       "    </tr>\n",
       "  </tbody>\n",
       "</table>\n",
       "</div>"
      ],
      "text/plain": [
       "       TrainMaxSpeed  TrainAccidentRate  TravelTime\n",
       "count       5.000000           5.000000    5.000000\n",
       "mean      148.000000           0.024000    6.900000\n",
       "std        23.874673           0.016733    2.484955\n",
       "min       120.000000           0.010000    3.500000\n",
       "25%       130.000000           0.010000    6.000000\n",
       "50%       150.000000           0.020000    6.500000\n",
       "75%       160.000000           0.030000    8.500000\n",
       "max       180.000000           0.050000   10.000000"
      ]
     },
     "execution_count": 35,
     "metadata": {},
     "output_type": "execute_result"
    }
   ],
   "source": [
    "train_df.describe()"
   ]
  },
  {
   "cell_type": "code",
   "execution_count": 36,
   "id": "791e77dc",
   "metadata": {},
   "outputs": [
    {
     "data": {
      "text/plain": [
       "180"
      ]
     },
     "execution_count": 36,
     "metadata": {},
     "output_type": "execute_result"
    }
   ],
   "source": [
    "train_df['TrainMaxSpeed'][4]"
   ]
  },
  {
   "cell_type": "code",
   "execution_count": 43,
   "id": "8f74ab5c",
   "metadata": {},
   "outputs": [
    {
     "name": "stdout",
     "output_type": "stream",
     "text": [
      "                      TrainName     TrainStation  TrainMaxSpeed  \\\n",
      "0              Rajdhani Express        New Delhi            130   \n",
      "1              Shatabdi Express   Mumbai Central            150   \n",
      "2               Duronto Express  Howrah Junction            120   \n",
      "3              Gatimaan Express    H. Nizamuddin            160   \n",
      "4  agartala to shilchar express        New Delhi            180   \n",
      "\n",
      "  TrainBuildDate  TrainAccidentRate  TravelTime     Origin Destination  \n",
      "0     2000-01-01               0.05         8.5  New Delhi      Mumbai  \n",
      "1     2005-03-15               0.02         6.0     Mumbai   Bangalore  \n",
      "2     2012-09-30               0.03        10.0    Kolkata     Chennai  \n",
      "3     2016-05-20               0.01         3.5      Delhi        Agra  \n",
      "4     2018-12-25               0.01         6.5   Varanasi     Lucknow  \n"
     ]
    },
    {
     "name": "stderr",
     "output_type": "stream",
     "text": [
      "C:\\Users\\Acer\\AppData\\Local\\Temp\\ipykernel_13552\\2906455060.py:1: SettingWithCopyWarning: \n",
      "A value is trying to be set on a copy of a slice from a DataFrame\n",
      "\n",
      "See the caveats in the documentation: https://pandas.pydata.org/pandas-docs/stable/user_guide/indexing.html#returning-a-view-versus-a-copy\n",
      "  train_df ['TrainName'][4] = 'agartala to shilchar express'\n"
     ]
    }
   ],
   "source": [
    "train_df ['TrainName'][4] = 'agartala to shilchar express'\n",
    "print (train_df)"
   ]
  },
  {
   "cell_type": "markdown",
   "id": "bb341e8e",
   "metadata": {},
   "source": [
    "# series in python\n"
   ]
  },
  {
   "cell_type": "code",
   "execution_count": 52,
   "id": "cefeb355",
   "metadata": {},
   "outputs": [
    {
     "name": "stdout",
     "output_type": "stream",
     "text": [
      "0    0.557719\n",
      "dtype: float64\n"
     ]
    }
   ],
   "source": [
    "ser = pd.Series(np.random.rand(1))\n",
    "print (ser)\n",
    "#type (ser)"
   ]
  },
  {
   "cell_type": "code",
   "execution_count": null,
   "id": "8af8dcd0",
   "metadata": {},
   "outputs": [],
   "source": []
  }
 ],
 "metadata": {
  "kernelspec": {
   "display_name": "Python 3 (ipykernel)",
   "language": "python",
   "name": "python3"
  },
  "language_info": {
   "codemirror_mode": {
    "name": "ipython",
    "version": 3
   },
   "file_extension": ".py",
   "mimetype": "text/x-python",
   "name": "python",
   "nbconvert_exporter": "python",
   "pygments_lexer": "ipython3",
   "version": "3.10.9"
  }
 },
 "nbformat": 4,
 "nbformat_minor": 5
}
